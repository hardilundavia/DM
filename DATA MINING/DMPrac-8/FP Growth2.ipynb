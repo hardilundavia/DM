{
 "cells": [
  {
   "cell_type": "code",
   "execution_count": 1,
   "metadata": {},
   "outputs": [],
   "source": [
    "import numpy as np;\n",
    "import pandas as pd;\n",
    "import pyfpgrowth;"
   ]
  },
  {
   "cell_type": "code",
   "execution_count": 2,
   "metadata": {},
   "outputs": [],
   "source": [
    "dataset = [['K','A','D','B'],\n",
    "           ['D','A','C','E','B'],\n",
    "           ['C','A','B','E'],\n",
    "           ['B','A','D']];"
   ]
  },
  {
   "cell_type": "code",
   "execution_count": 3,
   "metadata": {},
   "outputs": [
    {
     "name": "stdout",
     "output_type": "stream",
     "text": [
      "No. of patterns found =  18\n"
     ]
    },
    {
     "data": {
      "text/plain": [
       "{('C',): 2,\n",
       " ('B', 'C'): 2,\n",
       " ('A', 'C'): 2,\n",
       " ('A', 'B', 'C'): 2,\n",
       " ('E',): 2,\n",
       " ('C', 'E'): 2,\n",
       " ('B', 'E'): 2,\n",
       " ('A', 'E'): 2,\n",
       " ('B', 'C', 'E'): 2,\n",
       " ('A', 'C', 'E'): 2,\n",
       " ('A', 'B', 'E'): 2,\n",
       " ('A', 'B', 'C', 'E'): 2,\n",
       " ('B', 'D'): 3,\n",
       " ('A', 'D'): 3,\n",
       " ('A', 'B', 'D'): 2,\n",
       " ('A',): 4,\n",
       " ('B',): 4,\n",
       " ('A', 'B'): 3}"
      ]
     },
     "execution_count": 3,
     "metadata": {},
     "output_type": "execute_result"
    }
   ],
   "source": [
    "patterns = pyfpgrowth.find_frequent_patterns(dataset, 2);\n",
    "#patterns = pyfpgrowth.find_frequent_patterns(dataset, 4);\n",
    "print(\"No. of patterns found = \", len(patterns));\n",
    "patterns"
   ]
  },
  {
   "cell_type": "code",
   "execution_count": 4,
   "metadata": {},
   "outputs": [
    {
     "name": "stdout",
     "output_type": "stream",
     "text": [
      "No. of rules found = 16\n"
     ]
    },
    {
     "data": {
      "text/plain": [
       "{('B',): (('A',), 0.75),\n",
       " ('C',): (('A', 'B', 'E'), 1.0),\n",
       " ('A',): (('B',), 0.75),\n",
       " ('A', 'B'): (('D',), 0.6666666666666666),\n",
       " ('A', 'C'): (('B', 'E'), 1.0),\n",
       " ('B', 'C'): (('A', 'E'), 1.0),\n",
       " ('E',): (('A', 'B', 'C'), 1.0),\n",
       " ('B', 'E'): (('A', 'C'), 1.0),\n",
       " ('C', 'E'): (('A', 'B'), 1.0),\n",
       " ('A', 'E'): (('B', 'C'), 1.0),\n",
       " ('A', 'B', 'C'): (('E',), 1.0),\n",
       " ('A', 'B', 'E'): (('C',), 1.0),\n",
       " ('A', 'C', 'E'): (('B',), 1.0),\n",
       " ('B', 'C', 'E'): (('A',), 1.0),\n",
       " ('A', 'D'): (('B',), 0.6666666666666666),\n",
       " ('B', 'D'): (('A',), 0.6666666666666666)}"
      ]
     },
     "execution_count": 4,
     "metadata": {},
     "output_type": "execute_result"
    }
   ],
   "source": [
    "rules = pyfpgrowth.generate_association_rules(patterns, 0.3)\n",
    "print(\"No. of rules found =\", len(rules));\n",
    "rules"
   ]
  },
  {
   "cell_type": "code",
   "execution_count": null,
   "metadata": {},
   "outputs": [],
   "source": []
  }
 ],
 "metadata": {
  "kernelspec": {
   "display_name": "Python 3",
   "language": "python",
   "name": "python3"
  },
  "language_info": {
   "codemirror_mode": {
    "name": "ipython",
    "version": 3
   },
   "file_extension": ".py",
   "mimetype": "text/x-python",
   "name": "python",
   "nbconvert_exporter": "python",
   "pygments_lexer": "ipython3",
   "version": "3.7.1"
  }
 },
 "nbformat": 4,
 "nbformat_minor": 2
}
