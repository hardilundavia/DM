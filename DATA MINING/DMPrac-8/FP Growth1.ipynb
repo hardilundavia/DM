{
 "cells": [
  {
   "cell_type": "code",
   "execution_count": 1,
   "metadata": {},
   "outputs": [],
   "source": [
    "import numpy as np;\n",
    "import pandas as pd;\n",
    "import pyfpgrowth;"
   ]
  },
  {
   "cell_type": "code",
   "execution_count": 6,
   "metadata": {},
   "outputs": [],
   "source": [
    "dataset = [['E','K','M','N','O','Y'],\n",
    "           ['D','E','K','N','O','Y'],\n",
    "           ['A','E','K','M'],\n",
    "           ['C','K','M','U','Y'],\n",
    "           ['C','E','I','K','O','O']];"
   ]
  },
  {
   "cell_type": "code",
   "execution_count": 7,
   "metadata": {},
   "outputs": [
    {
     "name": "stdout",
     "output_type": "stream",
     "text": [
      "No. of patterns found =  39\n"
     ]
    },
    {
     "data": {
      "text/plain": [
       "{('N',): 2,\n",
       " ('N', 'Y'): 2,\n",
       " ('N', 'O'): 2,\n",
       " ('E', 'N'): 2,\n",
       " ('K', 'N'): 2,\n",
       " ('N', 'O', 'Y'): 2,\n",
       " ('E', 'N', 'Y'): 2,\n",
       " ('K', 'N', 'Y'): 2,\n",
       " ('E', 'N', 'O'): 2,\n",
       " ('K', 'N', 'O'): 2,\n",
       " ('E', 'K', 'N'): 2,\n",
       " ('E', 'N', 'O', 'Y'): 2,\n",
       " ('K', 'N', 'O', 'Y'): 2,\n",
       " ('E', 'K', 'N', 'Y'): 2,\n",
       " ('E', 'K', 'N', 'O'): 2,\n",
       " ('E', 'K', 'N', 'O', 'Y'): 2,\n",
       " ('C', 'K'): 2,\n",
       " ('C', 'K', 'O'): 2,\n",
       " ('C', 'O'): 2,\n",
       " ('M',): 3,\n",
       " ('E', 'M'): 2,\n",
       " ('K', 'M'): 3,\n",
       " ('E', 'K', 'M'): 2,\n",
       " ('M', 'Y'): 2,\n",
       " ('K', 'M', 'Y'): 2,\n",
       " ('O', 'Y'): 2,\n",
       " ('K', 'O', 'Y'): 2,\n",
       " ('E', 'Y'): 2,\n",
       " ('E', 'O', 'Y'): 2,\n",
       " ('E', 'K', 'Y'): 2,\n",
       " ('E', 'K', 'O', 'Y'): 2,\n",
       " ('K', 'Y'): 3,\n",
       " ('E',): 4,\n",
       " ('E', 'K'): 4,\n",
       " ('O',): 4,\n",
       " ('E', 'O'): 4,\n",
       " ('K', 'O'): 4,\n",
       " ('E', 'K', 'O'): 4,\n",
       " ('K',): 5}"
      ]
     },
     "execution_count": 7,
     "metadata": {},
     "output_type": "execute_result"
    }
   ],
   "source": [
    "patterns = pyfpgrowth.find_frequent_patterns(dataset, 2);\n",
    "#patterns = pyfpgrowth.find_frequent_patterns(dataset, 4);\n",
    "print(\"No. of patterns found = \", len(patterns));\n",
    "patterns"
   ]
  },
  {
   "cell_type": "code",
   "execution_count": 5,
   "metadata": {},
   "outputs": [
    {
     "name": "stdout",
     "output_type": "stream",
     "text": [
      "No. of rules found = 35\n"
     ]
    },
    {
     "data": {
      "text/plain": [
       "{('N',): (('E', 'K', 'O', 'Y'), 1.0),\n",
       " ('O',): (('E', 'K'), 1.0),\n",
       " ('E',): (('K', 'O'), 1.0),\n",
       " ('K',): (('E', 'O'), 0.8),\n",
       " ('N', 'O'): (('E', 'K', 'Y'), 1.0),\n",
       " ('N', 'Y'): (('E', 'K', 'O'), 1.0),\n",
       " ('O', 'Y'): (('E', 'K'), 1.0),\n",
       " ('E', 'N'): (('K', 'O', 'Y'), 1.0),\n",
       " ('E', 'Y'): (('K', 'O'), 1.0),\n",
       " ('K', 'N'): (('E', 'O', 'Y'), 1.0),\n",
       " ('K', 'Y'): (('E', 'O'), 0.6666666666666666),\n",
       " ('E', 'O'): (('K',), 1.0),\n",
       " ('K', 'O'): (('E',), 1.0),\n",
       " ('E', 'K'): (('O',), 1.0),\n",
       " ('E', 'N', 'O'): (('K', 'Y'), 1.0),\n",
       " ('E', 'N', 'Y'): (('K', 'O'), 1.0),\n",
       " ('E', 'O', 'Y'): (('K',), 1.0),\n",
       " ('N', 'O', 'Y'): (('E', 'K'), 1.0),\n",
       " ('K', 'N', 'O'): (('E', 'Y'), 1.0),\n",
       " ('K', 'N', 'Y'): (('E', 'O'), 1.0),\n",
       " ('K', 'O', 'Y'): (('E',), 1.0),\n",
       " ('E', 'K', 'N'): (('O', 'Y'), 1.0),\n",
       " ('E', 'K', 'Y'): (('O',), 1.0),\n",
       " ('E', 'K', 'O'): (('Y',), 0.5),\n",
       " ('E', 'K', 'N', 'O'): (('Y',), 1.0),\n",
       " ('E', 'K', 'N', 'Y'): (('O',), 1.0),\n",
       " ('E', 'K', 'O', 'Y'): (('N',), 1.0),\n",
       " ('E', 'N', 'O', 'Y'): (('K',), 1.0),\n",
       " ('K', 'N', 'O', 'Y'): (('E',), 1.0),\n",
       " ('C', 'K'): (('O',), 1.0),\n",
       " ('C', 'O'): (('K',), 1.0),\n",
       " ('M',): (('K', 'Y'), 0.6666666666666666),\n",
       " ('E', 'M'): (('K',), 1.0),\n",
       " ('K', 'M'): (('Y',), 0.6666666666666666),\n",
       " ('M', 'Y'): (('K',), 1.0)}"
      ]
     },
     "execution_count": 5,
     "metadata": {},
     "output_type": "execute_result"
    }
   ],
   "source": [
    "rules = pyfpgrowth.generate_association_rules(patterns, 0.3)\n",
    "print(\"No. of rules found =\", len(rules));\n",
    "rules"
   ]
  },
  {
   "cell_type": "code",
   "execution_count": null,
   "metadata": {},
   "outputs": [],
   "source": []
  }
 ],
 "metadata": {
  "kernelspec": {
   "display_name": "Python 3",
   "language": "python",
   "name": "python3"
  },
  "language_info": {
   "codemirror_mode": {
    "name": "ipython",
    "version": 3
   },
   "file_extension": ".py",
   "mimetype": "text/x-python",
   "name": "python",
   "nbconvert_exporter": "python",
   "pygments_lexer": "ipython3",
   "version": "3.7.1"
  }
 },
 "nbformat": 4,
 "nbformat_minor": 2
}
