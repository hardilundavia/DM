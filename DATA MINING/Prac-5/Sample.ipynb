{
 "cells": [
  {
   "cell_type": "code",
   "execution_count": 2,
   "metadata": {},
   "outputs": [],
   "source": [
    "import pandas as pd"
   ]
  },
  {
   "cell_type": "code",
   "execution_count": 3,
   "metadata": {},
   "outputs": [
    {
     "name": "stdout",
     "output_type": "stream",
     "text": [
      "     Outlook Temperature Humidity   Windy PlayTennis\n",
      "0      Sunny         Hot     High    Weak         No\n",
      "1      Sunny         Hot     High  Strong         No\n",
      "2   Overcast         Hot     High    Weak        Yes\n",
      "3      Rainy        Mild     High    Weak        Yes\n",
      "4      Rainy        Cool   Normal    Weak        Yes\n",
      "5      Rainy        Cool   Normal  Strong         No\n",
      "6   Overcast        Cool   Normal  Strong        Yes\n",
      "7      Sunny        Mild     High    Weak         No\n",
      "8      Sunny        Cool   Normal    Weak        Yes\n",
      "9      Rainy        Mild   Normal    Weak        Yes\n",
      "10     Sunny        Mild   Normal  Strong        Yes\n",
      "11  Overcast        Mild     High  Strong        Yes\n",
      "12  Overcast         Hot   Normal    Weak        Yes\n",
      "13     Rainy        Mild     High  Strong         No\n"
     ]
    }
   ],
   "source": [
    "data = pd.DataFrame({\"Outlook\":[\"Sunny\",\"Sunny\",\"Overcast\",\"Rainy\",\"Rainy\",\"Rainy\",\"Overcast\",\"Sunny\",\"Sunny\",\"Rainy\",\"Sunny\",\"Overcast\",\"Overcast\",\"Rainy\"],\n",
    "                     \"Temperature\":[\"Hot\",\"Hot\",\"Hot\",\"Mild\",\"Cool\",\"Cool\",\"Cool\",\"Mild\",\"Cool\",\"Mild\",\"Mild\",\"Mild\",\"Hot\",\"Mild\"],\n",
    "                     \"Humidity\":[\"High\",\"High\",\"High\",\"High\",\"Normal\",\"Normal\",\"Normal\",\"High\",\"Normal\",\"Normal\",\"Normal\",\"High\",\"Normal\",\"High\"],\n",
    "                     \"Windy\":[\"Weak\",\"Strong\",\"Weak\",\"Weak\",\"Weak\",\"Strong\",\"Strong\",\"Weak\",\"Weak\",\"Weak\",\"Strong\",\"Strong\",\"Weak\",\"Strong\"],\n",
    "                     \"PlayTennis\":[\"No\",\"No\",\"Yes\",\"Yes\",\"Yes\",\"No\",\"Yes\",\"No\",\"Yes\",\"Yes\",\"Yes\",\"Yes\",\"Yes\",\"No\"]},\n",
    "                     columns=[\"Outlook\",\"Temperature\",\"Humidity\",\"Windy\",\"PlayTennis\"])\n",
    "\n",
    "features = data[[\"Outlook\",\"Temperature\",\"Humidity\",\"Windy\"]]\n",
    "target = data[\"PlayTennis\"]\n",
    "\n",
    "print(data)"
   ]
  },
  {
   "cell_type": "code",
   "execution_count": null,
   "metadata": {},
   "outputs": [],
   "source": []
  }
 ],
 "metadata": {
  "kernelspec": {
   "display_name": "Python 3",
   "language": "python",
   "name": "python3"
  },
  "language_info": {
   "codemirror_mode": {
    "name": "ipython",
    "version": 3
   },
   "file_extension": ".py",
   "mimetype": "text/x-python",
   "name": "python",
   "nbconvert_exporter": "python",
   "pygments_lexer": "ipython3",
   "version": "3.7.1"
  }
 },
 "nbformat": 4,
 "nbformat_minor": 2
}
