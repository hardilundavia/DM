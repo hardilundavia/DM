{
 "cells": [
  {
   "cell_type": "code",
   "execution_count": 26,
   "metadata": {},
   "outputs": [],
   "source": [
    "from itertools import groupby\n",
    "import numpy as np\n",
    "import random"
   ]
  },
  {
   "cell_type": "code",
   "execution_count": 27,
   "metadata": {},
   "outputs": [
    {
     "name": "stdout",
     "output_type": "stream",
     "text": [
      "2   [[5, 'kahan', 2, 'mca']]\n",
      "3   [[3, 'abhi', 3, 'mca'], [4, 'kenil', 3, 'mca']]\n",
      "4   [[1, 'hari', 4, 'mca'], [2, 'kavil', 4, 'mca']]\n",
      "[[5, 'kahan', 2, 'mca']]\n",
      "[[3, 'abhi', 3, 'mca']]\n",
      "[[1, 'hari', 4, 'mca']]\n"
     ]
    }
   ],
   "source": [
    "data=[[1,'hari',4,'mca'],\n",
    "      [2,'kavil',4,'mca'],\n",
    "      [3,'abhi',3,'mca'],\n",
    "      [4,'kenil',3,'mca'],\n",
    "      [5,'kahan',2,'mca']]\n",
    "data= sorted(data,key=lambda x:x[2])\n",
    "res= groupby(data,lambda x:x[2])\n",
    "for i,v in res:\n",
    "    print(i,\" \",list(v))\n",
    "    \n",
    "res=[list(v) for i,v in groupby(data,lambda x:x[2])]\n",
    "for i in res:\n",
    "    print(random.sample(i,1))"
   ]
  },
  {
   "cell_type": "code",
   "execution_count": null,
   "metadata": {},
   "outputs": [],
   "source": []
  },
  {
   "cell_type": "code",
   "execution_count": null,
   "metadata": {},
   "outputs": [],
   "source": []
  }
 ],
 "metadata": {
  "kernelspec": {
   "display_name": "Python 3",
   "language": "python",
   "name": "python3"
  },
  "language_info": {
   "codemirror_mode": {
    "name": "ipython",
    "version": 3
   },
   "file_extension": ".py",
   "mimetype": "text/x-python",
   "name": "python",
   "nbconvert_exporter": "python",
   "pygments_lexer": "ipython3",
   "version": "3.7.1"
  }
 },
 "nbformat": 4,
 "nbformat_minor": 2
}
